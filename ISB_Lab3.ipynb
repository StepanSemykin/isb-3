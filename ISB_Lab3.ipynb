{
  "cells": [
    {
      "attachments": {},
      "cell_type": "markdown",
      "metadata": {
        "id": "gIscjbgOTxbO"
      },
      "source": [
        "#**Лабораторная работа № 3 \"Построение гибридной криптосистемы\"**\n",
        "**В рамках курса \"Основы информационной безопасности\"**  \n",
        "*Специальность \"Информационная безопасность автоматизированных систем\", 2 курс, 2 семестр*  \n",
        "\n",
        "Результат данной лабораторной работы - [гибридная криптосистема](https://www.youtube.com/watch?v=VPvZbMXfv_0) - будет сочетать в себе преимущества [симметричных](http://mf.grsu.by/UchProc/livak/b_protect/zok_2.htm) и [асимметричных](https://bstudy.net/905249/tehnika/asimmetrichnye_shifry) алгоритмов шифрования и в целом даже напоминать системы, использующиеся на практике. Симметричные алгоритмы работают быстрее ассиметричных и ими удобно шифровать большие объемы информации. Зато асимметричные алгоритмы не требуют наличия секретного канала для передачи ключа.   \n",
        "Работать она будет следующим образом: сообщение шифруется при помощи симметричного алгоритма, а ключ симметричного алгоритма - ассиметричным. В качестве асимметричного алгоритма будет использоваться [RSA](http://www.michurin.net/computer-science/rsa.html), симметричный алгорим выбирается в соответствии с вариантом. Варианты приведены ниже (все шифры блочные).\n",
        "\n"
      ]
    },
    {
      "attachments": {},
      "cell_type": "markdown",
      "metadata": {
        "id": "l05PT0JEbUTo"
      },
      "source": [
        "##Задание  \n",
        "Реализовать приложение (можно консольное), которое будет выполнять три указанных ниже сценарии: "
      ]
    },
    {
      "attachments": {},
      "cell_type": "markdown",
      "metadata": {
        "id": "dhZSdDCHdSeU"
      },
      "source": [
        "###1. Генерация ключей гибридной системы\n",
        "*Входные параметры:*  \n",
        "*1) путь, по которому сериализовать зашифрованный симметричный ключ;*  \n",
        "*2) путь, по которому сериализовать открытый ключ;*  \n",
        "*3) путь, по которому сериазизовать закрытый ключ.*\n",
        "\n",
        "1.1. Сгеренировать ключ для симметричного алгоритма.  \n",
        "1.2. Сгенерировать ключи для ассиметричного алгоритма.  \n",
        "1.3. Сериализовать ассиметричные ключи.   \n",
        "1.4. Зашифровать ключ симметричного шифрования открытым ключом и сохранить по указанному пути. "
      ]
    },
    {
      "attachments": {},
      "cell_type": "markdown",
      "metadata": {
        "id": "AffgS2s2dSqD"
      },
      "source": [
        "###2. Шифрование данных гибридной системой\n",
        "*Входные параметры:*  \n",
        "*1) путь к шифруемому текстовому файлу (очевидно, что файл должен быть достаточно объемным);*  \n",
        "*2) путь к закрытому ключу ассиметричного алгоритма;*  \n",
        "*3) путь к зашированному ключу симметричного алгоритма;*  \n",
        "*4) путь, по которому сохранить зашифрованный текстовый файл;*  \n",
        "\n",
        "2.1. Расшифровать симметричный ключ.  \n",
        "2.2. Зашифровать текст симметричным алгоритмом и сохранить по указанному пути.   "
      ]
    },
    {
      "attachments": {},
      "cell_type": "markdown",
      "metadata": {
        "id": "ndA_6fSEdS1R"
      },
      "source": [
        "###3. Дешифрование данных гибридной системой\n",
        "*Входные парметры:*  \n",
        "*1) путь к зашифрованному текстовому файлу;*  \n",
        "*2) путь к закрытому ключу ассиметричного алгоритма;*  \n",
        "*3) путь к зашированному ключу симметричного алгоритма;*  \n",
        "*4) путь, по которому сохранить расшифрованный текстовый файл.*  \n",
        "\n",
        "3.1. Расшифровать симметричный ключ.  \n",
        "3.2. Расшифровать текст симметричным алгоритмом и сохранить по указанному пути. "
      ]
    },
    {
      "attachments": {},
      "cell_type": "markdown",
      "metadata": {
        "id": "GV0-KXpFjO8j"
      },
      "source": [
        "##Небольшие ремарки к реализации приложения\n",
        "Я очень расчитываю не увидеть в вашем программном обеспечении захардкоженных входных параметров. Вы можете как считать их с клавиатуры, так и из файла. Ниже приведен пример работы с json.  \n",
        "\n",
        "Также я расчитываю, что ваше приложение будет сигнализировать о выполнении различных этапов своей работы.\n",
        "\n",
        "А еще, что оно не будет представлять из себя сплошную простыню кода без единой процедуры.\n",
        "\n",
        "Также было бы очень приятно увидеть лабораторную работу в виде грамотно оформленного репозитория на [github](https://github.com/)/[bitbucket](https://bitbucket.org/)/так далее."
      ]
    },
    {
      "cell_type": "code",
      "execution_count": 1,
      "metadata": {
        "id": "LjgkhpKQlYAA"
      },
      "outputs": [],
      "source": [
        "settings= {\n",
        "    'initial_file':'path/to/inital/file.txt',\n",
        "    'encrypted_file':'path/to/encrypted/file.txt',\n",
        "    'decrypted_file':'path/to/decrypted/file.txt',\n",
        "    'symmetric_key':'path/to/symmetric/key.txt',\n",
        "    'public_key':'path/to/public/key.pem',\n",
        "    'secret_key':'path/to/secret/key.pem',\n",
        "}\n"
      ]
    },
    {
      "cell_type": "code",
      "execution_count": 2,
      "metadata": {
        "id": "K_hNM6LxmzUO"
      },
      "outputs": [
        {
          "name": "stdout",
          "output_type": "stream",
          "text": [
            "{'initial_file': 'path/to/inital/file.txt', 'encrypted_file': 'path/to/encrypted/file.txt', 'decrypted_file': 'path/to/decrypted/file.txt', 'symmetric_key': 'path/to/symmetric/key.txt', 'public_key': 'path/to/public/key.pem', 'secret_key': 'path/to/secret/key.pem'}\n"
          ]
        }
      ],
      "source": [
        "import json\n",
        "# пишем в файл\n",
        "with open('settings.json', 'w') as fp:\n",
        "    json.dump(settings, fp)\n",
        "# читаем из файла\n",
        "with open('settings.json') as json_file:\n",
        "    json_data = json.load(json_file)\n",
        "\n",
        "print(json_data)"
      ]
    },
    {
      "attachments": {},
      "cell_type": "markdown",
      "metadata": {
        "id": "qno_6_jAImlA"
      },
      "source": [
        "Чтобы у пользователя была возможность выбора одного из описанных выше режимов работы, можно воспользоваться argparse и организовать группу взаимоисключающих параметров командной строки."
      ]
    },
    {
      "cell_type": "code",
      "execution_count": 3,
      "metadata": {
        "id": "vzJwbEEwIm3v"
      },
      "outputs": [
        {
          "ename": "IndentationError",
          "evalue": "expected an indented block after 'if' statement on line 9 (1841764136.py, line 11)",
          "output_type": "error",
          "traceback": [
            "\u001b[1;36m  Cell \u001b[1;32mIn[3], line 11\u001b[1;36m\u001b[0m\n\u001b[1;33m    else if args.encryption is not None:\u001b[0m\n\u001b[1;37m    ^\u001b[0m\n\u001b[1;31mIndentationError\u001b[0m\u001b[1;31m:\u001b[0m expected an indented block after 'if' statement on line 9\n"
          ]
        }
      ],
      "source": [
        "import argparse\n",
        "parser = argparse.ArgumentParser()\n",
        "group = parser.add_mutually_exclusive_group(required = True)\n",
        "group.add_argument('-gen','--generation',help='Запускает режим генерации ключей')\n",
        "group.add_argument('-enc','--encryption',help='Запускает режим шифрования')\n",
        "group.add_argument('-dec','--decryption',help='Запускает режим дешифрования')\n",
        "\n",
        "args = parser.parse_args()\n",
        "if args.generation is not None:\n",
        "  # генерируем ключи\n",
        "else if args.encryption is not None:\n",
        "  # шифруем\n",
        "else:\n",
        "  # дешифруем"
      ]
    },
    {
      "attachments": {},
      "cell_type": "markdown",
      "metadata": {
        "id": "t1ocn4B4jAv6"
      },
      "source": [
        "##Работа с библиотекой cryptography\n",
        "В данном разделе представлены примеры работы с библиотекой [cryptography](https://cryptography.io/en/latest/), которые могут вам пригодиться при выполнении данной лабораторной работы. Сама библиотека прекрасно задокументирована, так что, если вы владете английским языком, советую не проходить мимо. Если вы ко второму (третьему) курсу не владеете английским языком в мере, позволяющей вам читать технические тексты, то соболезную."
      ]
    },
    {
      "cell_type": "code",
      "execution_count": 16,
      "metadata": {
        "id": "2lIxNidGt3bZ"
      },
      "outputs": [
        {
          "name": "stdout",
          "output_type": "stream",
          "text": [
            "Requirement already satisfied: cryptography in c:\\users\\stepan\\appdata\\local\\programs\\python\\python311\\lib\\site-packages (40.0.2)\n",
            "Requirement already satisfied: cffi>=1.12 in c:\\users\\stepan\\appdata\\local\\programs\\python\\python311\\lib\\site-packages (from cryptography) (1.15.1)\n",
            "Requirement already satisfied: pycparser in c:\\users\\stepan\\appdata\\local\\programs\\python\\python311\\lib\\site-packages (from cffi>=1.12->cryptography) (2.21)\n",
            "Note: you may need to restart the kernel to use updated packages.\n"
          ]
        },
        {
          "name": "stderr",
          "output_type": "stream",
          "text": [
            "\n",
            "[notice] A new release of pip available: 22.3.1 -> 23.1.2\n",
            "[notice] To update, run: python.exe -m pip install --upgrade pip\n"
          ]
        }
      ],
      "source": [
        "pip install cryptography"
      ]
    },
    {
      "cell_type": "code",
      "execution_count": 5,
      "metadata": {
        "id": "z_-ZWRjaTwJO"
      },
      "outputs": [
        {
          "name": "stdout",
          "output_type": "stream",
          "text": [
            "<class 'bytes'>\n",
            "b'=w\"x\\xe5\\xc3Q#n\\xf4OCl\\x86$+\\xb0k\\ng\\x0f\\xab\\x01R?\\xda}\\xf9\\xd8\\xe3\\x94\\x8d'\n"
          ]
        }
      ],
      "source": [
        "# генерация ключа симметричного алгоритма шифрования\n",
        "import os #можно обойтись стандартным модулем\n",
        "\n",
        "key = os.urandom(32) # это байты\n",
        "\n",
        "print(type(key))\n",
        "print(key)"
      ]
    },
    {
      "cell_type": "code",
      "execution_count": 6,
      "metadata": {
        "id": "xacpzN4uqZ-i"
      },
      "outputs": [],
      "source": [
        "# сериализация ключа симмеричного алгоритма в файл\n",
        "file_name = 'symmetric.txt'\n",
        "with open(file_name, 'wb') as key_file:\n",
        "  key_file.write(key)"
      ]
    },
    {
      "cell_type": "code",
      "execution_count": 7,
      "metadata": {
        "id": "LL0jLslE1PJ2"
      },
      "outputs": [
        {
          "name": "stdout",
          "output_type": "stream",
          "text": [
            "<class 'bytes'>\n",
            "b'=w\"x\\xe5\\xc3Q#n\\xf4OCl\\x86$+\\xb0k\\ng\\x0f\\xab\\x01R?\\xda}\\xf9\\xd8\\xe3\\x94\\x8d'\n"
          ]
        }
      ],
      "source": [
        "# десериализация ключа симметричного алгоритма\n",
        "with open(file_name, mode='rb') as key_file: \n",
        "    content = key_file.read()\n",
        "\n",
        "print(type(content))\n",
        "print(content)"
      ]
    },
    {
      "cell_type": "code",
      "execution_count": 8,
      "metadata": {
        "id": "8sMgJ3fH3yYX"
      },
      "outputs": [
        {
          "name": "stdout",
          "output_type": "stream",
          "text": [
            "b'\\xd0\\xba\\xd1\\x82\\xd0\\xbe \\xd0\\xbf\\xd1\\x80\\xd0\\xbe\\xd1\\x87\\xd0\\xb8\\xd1\\x82\\xd0\\xb0\\xd0\\xbb \\xd1\\x82\\xd0\\xbe\\xd1\\x82 \\xd0\\xb7\\xd0\\xb4\\xd0\\xbe\\xd1\\x85\\xd0\\xbd\\xd0\\xb5\\xd1\\x82'\n",
            "b'\\xd0\\xba\\xd1\\x82\\xd0\\xbe \\xd0\\xbf\\xd1\\x80\\xd0\\xbe\\xd1\\x87\\xd0\\xb8\\xd1\\x82\\xd0\\xb0\\xd0\\xbb \\xd1\\x82\\xd0\\xbe\\xd1\\x82 \\xd0\\xb7\\xd0\\xb4\\xd0\\xbe\\xd1\\x85\\xd0\\xbd\\xd0\\xb5\\xd1\\x82\\x00\\x00\\x03'\n"
          ]
        }
      ],
      "source": [
        "# паддинг данных для работы блочного шифра - делаем длину сообщения кратной длине шифркуемого блока\n",
        "from cryptography.hazmat.primitives import padding\n",
        "\n",
        "padder = padding.ANSIX923(32).padder()\n",
        "text = bytes('кто прочитал тот здохнет', 'UTF-8')\n",
        "padded_text = padder.update(text)+padder.finalize()\n",
        "\n",
        "print(text)\n",
        "print(padded_text)"
      ]
    },
    {
      "cell_type": "code",
      "execution_count": 9,
      "metadata": {
        "id": "r5qAuZmnqoWh"
      },
      "outputs": [
        {
          "name": "stdout",
          "output_type": "stream",
          "text": [
            "b'\\x04\\xda\\x08c\\xf2\\x16\\xf6n\\xe3\\xe2p1\\x81\\x18(\\x13\\xf7?\\xaddD\\xd9&Y\\x1090\\x1b\\x1d\\x8f\\xd5\\xbf\\x8f\\xc5\\xebP\\xf1\\xdcB\\xc2\\xb5B0\\x11!\\xe6O\\x85'\n"
          ]
        }
      ],
      "source": [
        "# шифрование текста симметричным алгоритмом\n",
        "from cryptography.hazmat.primitives.ciphers import Cipher, algorithms, modes\n",
        "\n",
        "iv = os.urandom(16) #случайное значение для инициализации блочного режима, должно быть размером с блок и каждый раз новым\n",
        "cipher = Cipher(algorithms.AES(key), modes.CBC(iv))\n",
        "encryptor = cipher.encryptor()\n",
        "c_text = encryptor.update(padded_text) + encryptor.finalize()\n",
        "\n",
        "print(c_text)"
      ]
    },
    {
      "cell_type": "code",
      "execution_count": 10,
      "metadata": {
        "id": "tZtJlqccqtg4"
      },
      "outputs": [
        {
          "name": "stdout",
          "output_type": "stream",
          "text": [
            "кто прочитал тот здохнет\u0000\u0000\u0003\n",
            "кто прочитал тот здохнет\n"
          ]
        }
      ],
      "source": [
        "# дешифрование и депаддинг текста симметричным алгоритмом\n",
        "\n",
        "decryptor = cipher.decryptor()\n",
        "dc_text = decryptor.update(c_text) + decryptor.finalize()\n",
        "\n",
        "unpadder = padding.ANSIX923(32).unpadder()\n",
        "unpadded_dc_text = unpadder.update(dc_text) + unpadder.finalize()\n",
        "\n",
        "print(dc_text.decode('UTF-8'))\n",
        "print(unpadded_dc_text.decode('UTF-8'))"
      ]
    },
    {
      "cell_type": "code",
      "execution_count": 11,
      "metadata": {
        "id": "6enRQI5hpvtp"
      },
      "outputs": [
        {
          "name": "stdout",
          "output_type": "stream",
          "text": [
            "<class 'cryptography.hazmat.backends.openssl.rsa._RSAPrivateKey'>\n",
            "<cryptography.hazmat.backends.openssl.rsa._RSAPrivateKey object at 0x000002BC93383890>\n",
            "<class 'cryptography.hazmat.backends.openssl.rsa._RSAPublicKey'>\n",
            "<cryptography.hazmat.backends.openssl.rsa._RSAPublicKey object at 0x000002BC94E09890>\n"
          ]
        }
      ],
      "source": [
        "# генерация пары ключей для асимметричного алгоритма шифрования\n",
        "from cryptography.hazmat.primitives.asymmetric import rsa\n",
        "from cryptography.hazmat.primitives import serialization\n",
        "\n",
        "keys = rsa.generate_private_key(\n",
        "    public_exponent=65537,\n",
        "    key_size=2048\n",
        ")\n",
        "private_key = keys\n",
        "public_key = keys.public_key()\n",
        "\n",
        "print(type(private_key))\n",
        "print(private_key)\n",
        "print(type(public_key))\n",
        "print(public_key)"
      ]
    },
    {
      "cell_type": "code",
      "execution_count": 12,
      "metadata": {
        "id": "r7j9V_HMqeAZ"
      },
      "outputs": [],
      "source": [
        "# сериализация открытого ключа в файл\n",
        "public_pem = 'public.pem'\n",
        "with open(public_pem, 'wb') as public_out:\n",
        "        public_out.write(public_key.public_bytes(encoding=serialization.Encoding.PEM,\n",
        "             format=serialization.PublicFormat.SubjectPublicKeyInfo))\n",
        "\n",
        "# сериализация закрытого ключа в файл\n",
        "private_pem = 'private.pem'\n",
        "with open(private_pem, 'wb') as private_out:\n",
        "        private_out.write(private_key.private_bytes(encoding=serialization.Encoding.PEM,\n",
        "              format=serialization.PrivateFormat.TraditionalOpenSSL,\n",
        "              encryption_algorithm=serialization.NoEncryption()))"
      ]
    },
    {
      "cell_type": "code",
      "execution_count": 13,
      "metadata": {
        "id": "nmBYMOpjqxOw"
      },
      "outputs": [
        {
          "name": "stdout",
          "output_type": "stream",
          "text": [
            "<class 'cryptography.hazmat.backends.openssl.rsa._RSAPrivateKey'>\n",
            "<cryptography.hazmat.backends.openssl.rsa._RSAPrivateKey object at 0x000002BC94E0A910>\n",
            "<class 'cryptography.hazmat.backends.openssl.rsa._RSAPublicKey'>\n",
            "<cryptography.hazmat.backends.openssl.rsa._RSAPublicKey object at 0x000002BC94E09050>\n"
          ]
        }
      ],
      "source": [
        "from cryptography.hazmat.primitives.serialization import load_pem_public_key, load_pem_private_key\n",
        "\n",
        "# десериализация открытого ключа\n",
        "with open(public_pem, 'rb') as pem_in:\n",
        "  public_bytes = pem_in.read()\n",
        "d_public_key = load_pem_public_key(public_bytes)\n",
        "# десериализация закрытого ключа\n",
        "with open(private_pem, 'rb') as pem_in:\n",
        "  private_bytes = pem_in.read()\n",
        "d_private_key = load_pem_private_key(private_bytes,password=None,)\n",
        "\n",
        "print(type(d_private_key))\n",
        "print(d_private_key)\n",
        "print(type(d_public_key))\n",
        "print(d_public_key)"
      ]
    },
    {
      "cell_type": "code",
      "execution_count": 14,
      "metadata": {
        "id": "dFCQIx48rJ0G"
      },
      "outputs": [
        {
          "name": "stdout",
          "output_type": "stream",
          "text": [
            "b\"D&Wf\\xf6\\xc3\\xa2%\\x14\\xa9\\x91\\xb0\\xd0\\xc3dQ\\xe4\\x17\\n\\x0eT\\xd7AF4f\\x1d\\xf3\\xd1A\\rE\\xdf\\xb9\\x14\\x80\\xf1\\x84\\x12\\xe8\\x85~\\x1bd{R0\\tZ7k\\xeeN1\\xccj\\xad\\xd6O\\xc8*\\x90c\\x1e\\x173\\x9dE\\x11\\x94;:Q\\xa0hQV\\xc1G.=[]\\x07\\r}\\x87\\x97h)\\xb1\\xb0\\xfa\\xec\\xc5\\x0f\\xc5\\xa5\\x88\\x89M\\x98\\xa5\\x8d<\\x83/\\xce\\x9a\\x93\\xf86\\xb2c\\xa0\\xb1~\\xc59\\xc1\\x83\\x9e\\xde~\\xc9p\\xe4\\x1e+R}\\x8a\\x07\\x1e\\x17-\\x9eI\\xbd\\xe2\\x01c\\xb4\\xa5\\xa4\\xe6j'\\x17Z\\xb5\\xc0%\\xd8\\xf0\\x8e\\xb7\\xc21\\xc7:K\\xc1)\\xd5%\\xca\\xc8\\xdb~\\xa8\\xdaU\\xf5s\\xb5aLU\\x11\\xacZCz{\\xb5\\x9b\\x1ehHx\\x96\\xab\\xd0\\x01\\xd1\\x8f\\xf4\\x88C~:l\\xe4\\xcc\\xe9{\\xeb_|\\xa9\\x8e\\xd4{\\x83\\xbbSx@N\\x87\\x9a;\\x17:\\x89\\xecu\\xea\\xfe\\xd8F\\xb3\\x0e\\xd8q\\xac\\x8e\\xeb\\x1f\\x1eh\\xc8T\\x94\\xad\\xe3\\x86K%\\x94T\\xbf/\\xbcC\"\n"
          ]
        }
      ],
      "source": [
        "from cryptography.hazmat.primitives.asymmetric import padding\n",
        "from cryptography.hazmat.primitives import hashes\n",
        "\n",
        "# шифрование текста при помощи RSA-OAEP (это усиливающая классический RSA cхема с использованием двух криптостойких хеш-функций и паддинга, если интересно, можно почитать здесь https://habr.com/ru/post/99376/)\n",
        "text= bytes('кто прочитал тот воскреснет', 'UTF-8')\n",
        "c_text = public_key.encrypt(text, padding.OAEP(mgf=padding.MGF1(algorithm=hashes.SHA256()),algorithm=hashes.SHA256(),label=None))\n",
        "\n",
        "print(c_text)"
      ]
    },
    {
      "cell_type": "code",
      "execution_count": 15,
      "metadata": {
        "id": "oVmJJcEmrNWt"
      },
      "outputs": [
        {
          "name": "stdout",
          "output_type": "stream",
          "text": [
            "кто прочитал тот воскреснет\n"
          ]
        }
      ],
      "source": [
        "# дешифрование текста асимметричным алгоритмом\n",
        "dc_text = private_key.decrypt(c_text,padding.OAEP(mgf=padding.MGF1(algorithm=hashes.SHA256()),algorithm=hashes.SHA256(),label=None))\n",
        "\n",
        "print(dc_text.decode('UTF-8'))"
      ]
    },
    {
      "attachments": {},
      "cell_type": "markdown",
      "metadata": {
        "id": "-ytAMWrtA37O"
      },
      "source": [
        "##Варианты заданий\n",
        "Далее приведены симметричные алгоритмы шифрования для различных вариантов лабораторной. Вариант $v$ предлагается выбрать как $ v = rem(i,9)$, где $i$ - порядковый номер студента в списке.    \n",
        "\n",
        "Грубо говоря, варианты (в основном) отличаются вызовом определенного метода библиотеки и длиной ключа, который необходимо сгенерировать. \n",
        "\n",
        "*Помимо работающего приложения, для сдачи необходимо изучить и рассказать  исторические аспекты используемого симметричного алгоритма - когда, кем и для каких целей он был разработан, считается ли  сегодня криптостойким, к каким атакам алгоритм уязвим, принят ли он в качестве стандарта шифрования на официальном уровне каким-либо государством.*"
      ]
    },
    {
      "attachments": {},
      "cell_type": "markdown",
      "metadata": {
        "id": "sxBuIHZ1eJJC"
      },
      "source": [
        "Варианты:  \n",
        "1. [**AES**](https://cryptography.io/en/latest/hazmat/primitives/symmetric-encryption/#cryptography.hazmat.primitives.ciphers.algorithms.AES), длина ключа 128,192,256 бит - *предусмотреть пользовательский выбор длины ключа*;  \n",
        "2. [**Camellia**](https://cryptography.io/en/latest/hazmat/primitives/symmetric-encryption/#cryptography.hazmat.primitives.ciphers.algorithms.Camellia), длина ключа 128,192,256 бит - *предусмотреть пользовательский выбор длины ключа*;  \n",
        "3. [**ChaCha20**](https://cryptography.io/en/latest/hazmat/primitives/symmetric-encryption/#cryptography.hazmat.primitives.ciphers.algorithms.ChaCha20), длина ключа 256 бит, есть дополнительный параметр - одноразовое случайное число 128 бит - *предусмотреть сериализацию/десериализацию этого параметра*;  \n",
        "4. [**3DES**](https://cryptography.io/en/latest/hazmat/primitives/symmetric-encryption/#cryptography.hazmat.primitives.ciphers.algorithms.TripleDES), длина ключа 64, 128, 192 бит - *предусмотреть пользовательский выбор длины ключа*;  \n",
        "5. [**CAST5**](https://cryptography.io/en/latest/hazmat/primitives/symmetric-encryption/#cryptography.hazmat.primitives.ciphers.algorithms.CAST5), длина ключа от 40 до 128 бит с шагом 8 бит - *предусмотреть пользовательский выбор длины ключа*;  \n",
        "6. [**SEED**](https://cryptography.io/en/latest/hazmat/primitives/symmetric-encryption/#cryptography.hazmat.primitives.ciphers.algorithms.SEED), длина ключа 128 бит;  \n",
        "7. [**SM4**](https://cryptography.io/en/latest/hazmat/primitives/symmetric-encryption/#cryptography.hazmat.primitives.ciphers.algorithms.SM4), длина ключа 128 бит;  \n",
        "8. [**Blowfish**](https://cryptography.io/en/latest/hazmat/primitives/symmetric-encryption/#cryptography.hazmat.primitives.ciphers.algorithms.Blowfish), длина ключа от 32 до 448 бит с шагом 8 бит - *предусмотреть пользовательский выбор длины ключа*;  \n",
        "9. [**IDEA**](https://cryptography.io/en/latest/hazmat/primitives/symmetric-encryption/#cryptography.hazmat.primitives.ciphers.algorithms.ARC4), длина ключа 128 бит.  \n"
      ]
    }
  ],
  "metadata": {
    "colab": {
      "name": "ISB_Lab3.ipynb",
      "provenance": [],
      "toc_visible": true
    },
    "kernelspec": {
      "display_name": "Python 3",
      "name": "python3"
    },
    "language_info": {
      "codemirror_mode": {
        "name": "ipython",
        "version": 3
      },
      "file_extension": ".py",
      "mimetype": "text/x-python",
      "name": "python",
      "nbconvert_exporter": "python",
      "pygments_lexer": "ipython3",
      "version": "3.11.2"
    }
  },
  "nbformat": 4,
  "nbformat_minor": 0
}
